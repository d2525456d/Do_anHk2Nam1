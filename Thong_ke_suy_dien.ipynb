{
  "nbformat": 4,
  "nbformat_minor": 0,
  "metadata": {
    "colab": {
      "name": "Thong_ke_suy_dien.ipynb",
      "provenance": [],
      "collapsed_sections": []
    },
    "kernelspec": {
      "display_name": "Python 3",
      "language": "python",
      "name": "python3"
    },
    "language_info": {
      "codemirror_mode": {
        "name": "ipython",
        "version": 3
      },
      "file_extension": ".py",
      "mimetype": "text/x-python",
      "name": "python",
      "nbconvert_exporter": "python",
      "pygments_lexer": "ipython3",
      "version": "3.8.3"
    }
  },
  "cells": [
    {
      "cell_type": "code",
      "metadata": {
        "id": "XQDV1CUHQiF8",
        "colab": {
          "base_uri": "https://localhost:8080/"
        },
        "outputId": "b86cbe5c-83df-436d-a3fa-28b59db3ce66"
      },
      "source": [
        "import numpy as np\n",
        "import pandas as pd\n",
        "import matplotlib.pyplot as plt \n",
        "import scipy\n",
        "import statistics\n",
        "import seaborn as sns \n",
        "import statsmodels\n",
        "import statsmodels.api as sm\n",
        "from statsmodels.formula.api import ols\n",
        "from scipy import stats\n",
        "\n",
        "\n",
        "plt.figure(figsize=(20,20))\n",
        "%matplotlib inline"
      ],
      "execution_count": null,
      "outputs": [
        {
          "output_type": "stream",
          "text": [
            "/usr/local/lib/python3.7/dist-packages/statsmodels/tools/_testing.py:19: FutureWarning: pandas.util.testing is deprecated. Use the functions in the public API at pandas.testing instead.\n",
            "  import pandas.util.testing as tm\n"
          ],
          "name": "stderr"
        }
      ]
    },
    {
      "cell_type": "code",
      "metadata": {
        "colab": {
          "base_uri": "https://localhost:8080/",
          "height": 357
        },
        "id": "JXNpGb3XQs6a",
        "outputId": "b2e836ae-ccf2-44ee-8f01-3b54d1cf33f0"
      },
      "source": [
        "#Đưa dữ liệu vào\n",
        "\n",
        "data = pd.read_csv(\"Diet_R.csv\")\n",
        "data.head(10)\n"
      ],
      "execution_count": null,
      "outputs": [
        {
          "output_type": "execute_result",
          "data": {
            "text/html": [
              "<div>\n",
              "<style scoped>\n",
              "    .dataframe tbody tr th:only-of-type {\n",
              "        vertical-align: middle;\n",
              "    }\n",
              "\n",
              "    .dataframe tbody tr th {\n",
              "        vertical-align: top;\n",
              "    }\n",
              "\n",
              "    .dataframe thead th {\n",
              "        text-align: right;\n",
              "    }\n",
              "</style>\n",
              "<table border=\"1\" class=\"dataframe\">\n",
              "  <thead>\n",
              "    <tr style=\"text-align: right;\">\n",
              "      <th></th>\n",
              "      <th>Person</th>\n",
              "      <th>gender</th>\n",
              "      <th>Age</th>\n",
              "      <th>Height</th>\n",
              "      <th>pre.weight</th>\n",
              "      <th>Diet</th>\n",
              "      <th>weight6weeks</th>\n",
              "    </tr>\n",
              "  </thead>\n",
              "  <tbody>\n",
              "    <tr>\n",
              "      <th>0</th>\n",
              "      <td>25</td>\n",
              "      <td>NaN</td>\n",
              "      <td>41</td>\n",
              "      <td>171</td>\n",
              "      <td>60</td>\n",
              "      <td>2</td>\n",
              "      <td>60.0</td>\n",
              "    </tr>\n",
              "    <tr>\n",
              "      <th>1</th>\n",
              "      <td>26</td>\n",
              "      <td>NaN</td>\n",
              "      <td>32</td>\n",
              "      <td>174</td>\n",
              "      <td>103</td>\n",
              "      <td>2</td>\n",
              "      <td>103.0</td>\n",
              "    </tr>\n",
              "    <tr>\n",
              "      <th>2</th>\n",
              "      <td>1</td>\n",
              "      <td>0.0</td>\n",
              "      <td>22</td>\n",
              "      <td>159</td>\n",
              "      <td>58</td>\n",
              "      <td>1</td>\n",
              "      <td>54.2</td>\n",
              "    </tr>\n",
              "    <tr>\n",
              "      <th>3</th>\n",
              "      <td>2</td>\n",
              "      <td>0.0</td>\n",
              "      <td>46</td>\n",
              "      <td>192</td>\n",
              "      <td>60</td>\n",
              "      <td>1</td>\n",
              "      <td>54.0</td>\n",
              "    </tr>\n",
              "    <tr>\n",
              "      <th>4</th>\n",
              "      <td>3</td>\n",
              "      <td>0.0</td>\n",
              "      <td>55</td>\n",
              "      <td>170</td>\n",
              "      <td>64</td>\n",
              "      <td>1</td>\n",
              "      <td>63.3</td>\n",
              "    </tr>\n",
              "    <tr>\n",
              "      <th>5</th>\n",
              "      <td>4</td>\n",
              "      <td>0.0</td>\n",
              "      <td>33</td>\n",
              "      <td>171</td>\n",
              "      <td>64</td>\n",
              "      <td>1</td>\n",
              "      <td>61.1</td>\n",
              "    </tr>\n",
              "    <tr>\n",
              "      <th>6</th>\n",
              "      <td>5</td>\n",
              "      <td>0.0</td>\n",
              "      <td>50</td>\n",
              "      <td>170</td>\n",
              "      <td>65</td>\n",
              "      <td>1</td>\n",
              "      <td>62.2</td>\n",
              "    </tr>\n",
              "    <tr>\n",
              "      <th>7</th>\n",
              "      <td>6</td>\n",
              "      <td>0.0</td>\n",
              "      <td>50</td>\n",
              "      <td>201</td>\n",
              "      <td>66</td>\n",
              "      <td>1</td>\n",
              "      <td>64.0</td>\n",
              "    </tr>\n",
              "    <tr>\n",
              "      <th>8</th>\n",
              "      <td>7</td>\n",
              "      <td>0.0</td>\n",
              "      <td>37</td>\n",
              "      <td>174</td>\n",
              "      <td>67</td>\n",
              "      <td>1</td>\n",
              "      <td>65.0</td>\n",
              "    </tr>\n",
              "    <tr>\n",
              "      <th>9</th>\n",
              "      <td>8</td>\n",
              "      <td>0.0</td>\n",
              "      <td>28</td>\n",
              "      <td>176</td>\n",
              "      <td>69</td>\n",
              "      <td>1</td>\n",
              "      <td>60.5</td>\n",
              "    </tr>\n",
              "  </tbody>\n",
              "</table>\n",
              "</div>"
            ],
            "text/plain": [
              "   Person  gender  Age  Height  pre.weight  Diet  weight6weeks\n",
              "0      25     NaN   41     171          60     2          60.0\n",
              "1      26     NaN   32     174         103     2         103.0\n",
              "2       1     0.0   22     159          58     1          54.2\n",
              "3       2     0.0   46     192          60     1          54.0\n",
              "4       3     0.0   55     170          64     1          63.3\n",
              "5       4     0.0   33     171          64     1          61.1\n",
              "6       5     0.0   50     170          65     1          62.2\n",
              "7       6     0.0   50     201          66     1          64.0\n",
              "8       7     0.0   37     174          67     1          65.0\n",
              "9       8     0.0   28     176          69     1          60.5"
            ]
          },
          "metadata": {
            "tags": []
          },
          "execution_count": 2
        }
      ]
    },
    {
      "cell_type": "code",
      "metadata": {
        "colab": {
          "base_uri": "https://localhost:8080/"
        },
        "id": "3EuT3RpCRCI5",
        "outputId": "676fb973-7849-429e-91ac-9112fedae3f4"
      },
      "source": [
        "# Xem thông tin dữ liệu trong df\n",
        "\n",
        "data.info()"
      ],
      "execution_count": null,
      "outputs": [
        {
          "output_type": "stream",
          "text": [
            "<class 'pandas.core.frame.DataFrame'>\n",
            "RangeIndex: 78 entries, 0 to 77\n",
            "Data columns (total 7 columns):\n",
            " #   Column        Non-Null Count  Dtype  \n",
            "---  ------        --------------  -----  \n",
            " 0   Person        78 non-null     int64  \n",
            " 1   gender        76 non-null     float64\n",
            " 2   Age           78 non-null     int64  \n",
            " 3   Height        78 non-null     int64  \n",
            " 4   pre.weight    78 non-null     int64  \n",
            " 5   Diet          78 non-null     int64  \n",
            " 6   weight6weeks  78 non-null     float64\n",
            "dtypes: float64(2), int64(5)\n",
            "memory usage: 4.4 KB\n"
          ],
          "name": "stdout"
        }
      ]
    },
    {
      "cell_type": "code",
      "metadata": {
        "colab": {
          "base_uri": "https://localhost:8080/",
          "height": 388
        },
        "id": "CNQxR3crSWfs",
        "outputId": "ee05c695-5cbd-4424-ac18-ca3b293bfe57"
      },
      "source": [
        "#gender của cột 1 và 2 là Na nên loại bỏ\n",
        "#sau đó sắp xếp lại theo index mới\n",
        "dt = data.copy()\n",
        "rm = dt.drop([0, 1])\n",
        "x = rm.set_index('Person')\n",
        "dtnew = x.sort_index()\n",
        "dtnew.head(10)\n"
      ],
      "execution_count": null,
      "outputs": [
        {
          "output_type": "execute_result",
          "data": {
            "text/html": [
              "<div>\n",
              "<style scoped>\n",
              "    .dataframe tbody tr th:only-of-type {\n",
              "        vertical-align: middle;\n",
              "    }\n",
              "\n",
              "    .dataframe tbody tr th {\n",
              "        vertical-align: top;\n",
              "    }\n",
              "\n",
              "    .dataframe thead th {\n",
              "        text-align: right;\n",
              "    }\n",
              "</style>\n",
              "<table border=\"1\" class=\"dataframe\">\n",
              "  <thead>\n",
              "    <tr style=\"text-align: right;\">\n",
              "      <th></th>\n",
              "      <th>gender</th>\n",
              "      <th>Age</th>\n",
              "      <th>Height</th>\n",
              "      <th>pre.weight</th>\n",
              "      <th>Diet</th>\n",
              "      <th>weight6weeks</th>\n",
              "    </tr>\n",
              "    <tr>\n",
              "      <th>Person</th>\n",
              "      <th></th>\n",
              "      <th></th>\n",
              "      <th></th>\n",
              "      <th></th>\n",
              "      <th></th>\n",
              "      <th></th>\n",
              "    </tr>\n",
              "  </thead>\n",
              "  <tbody>\n",
              "    <tr>\n",
              "      <th>1</th>\n",
              "      <td>0.0</td>\n",
              "      <td>22</td>\n",
              "      <td>159</td>\n",
              "      <td>58</td>\n",
              "      <td>1</td>\n",
              "      <td>54.2</td>\n",
              "    </tr>\n",
              "    <tr>\n",
              "      <th>2</th>\n",
              "      <td>0.0</td>\n",
              "      <td>46</td>\n",
              "      <td>192</td>\n",
              "      <td>60</td>\n",
              "      <td>1</td>\n",
              "      <td>54.0</td>\n",
              "    </tr>\n",
              "    <tr>\n",
              "      <th>3</th>\n",
              "      <td>0.0</td>\n",
              "      <td>55</td>\n",
              "      <td>170</td>\n",
              "      <td>64</td>\n",
              "      <td>1</td>\n",
              "      <td>63.3</td>\n",
              "    </tr>\n",
              "    <tr>\n",
              "      <th>4</th>\n",
              "      <td>0.0</td>\n",
              "      <td>33</td>\n",
              "      <td>171</td>\n",
              "      <td>64</td>\n",
              "      <td>1</td>\n",
              "      <td>61.1</td>\n",
              "    </tr>\n",
              "    <tr>\n",
              "      <th>5</th>\n",
              "      <td>0.0</td>\n",
              "      <td>50</td>\n",
              "      <td>170</td>\n",
              "      <td>65</td>\n",
              "      <td>1</td>\n",
              "      <td>62.2</td>\n",
              "    </tr>\n",
              "    <tr>\n",
              "      <th>6</th>\n",
              "      <td>0.0</td>\n",
              "      <td>50</td>\n",
              "      <td>201</td>\n",
              "      <td>66</td>\n",
              "      <td>1</td>\n",
              "      <td>64.0</td>\n",
              "    </tr>\n",
              "    <tr>\n",
              "      <th>7</th>\n",
              "      <td>0.0</td>\n",
              "      <td>37</td>\n",
              "      <td>174</td>\n",
              "      <td>67</td>\n",
              "      <td>1</td>\n",
              "      <td>65.0</td>\n",
              "    </tr>\n",
              "    <tr>\n",
              "      <th>8</th>\n",
              "      <td>0.0</td>\n",
              "      <td>28</td>\n",
              "      <td>176</td>\n",
              "      <td>69</td>\n",
              "      <td>1</td>\n",
              "      <td>60.5</td>\n",
              "    </tr>\n",
              "    <tr>\n",
              "      <th>9</th>\n",
              "      <td>0.0</td>\n",
              "      <td>28</td>\n",
              "      <td>165</td>\n",
              "      <td>70</td>\n",
              "      <td>1</td>\n",
              "      <td>68.1</td>\n",
              "    </tr>\n",
              "    <tr>\n",
              "      <th>10</th>\n",
              "      <td>0.0</td>\n",
              "      <td>45</td>\n",
              "      <td>165</td>\n",
              "      <td>70</td>\n",
              "      <td>1</td>\n",
              "      <td>66.9</td>\n",
              "    </tr>\n",
              "  </tbody>\n",
              "</table>\n",
              "</div>"
            ],
            "text/plain": [
              "        gender  Age  Height  pre.weight  Diet  weight6weeks\n",
              "Person                                                     \n",
              "1          0.0   22     159          58     1          54.2\n",
              "2          0.0   46     192          60     1          54.0\n",
              "3          0.0   55     170          64     1          63.3\n",
              "4          0.0   33     171          64     1          61.1\n",
              "5          0.0   50     170          65     1          62.2\n",
              "6          0.0   50     201          66     1          64.0\n",
              "7          0.0   37     174          67     1          65.0\n",
              "8          0.0   28     176          69     1          60.5\n",
              "9          0.0   28     165          70     1          68.1\n",
              "10         0.0   45     165          70     1          66.9"
            ]
          },
          "metadata": {
            "tags": []
          },
          "execution_count": 4
        }
      ]
    },
    {
      "cell_type": "code",
      "metadata": {
        "id": "ZHEh5UgQSnWO"
      },
      "source": [
        "#các hàm\n",
        "\n",
        "def hist(inp):\n",
        "    plt.figure()\n",
        "    ac = sns.distplot(inp, color='blue')\n",
        "    plt.axvline(np.mean(inp), color=\"r\", linestyle=\"dashed\", linewidth=5)\n",
        "    _, max_ = plt.ylim()\n",
        "    plt.text(\n",
        "        inp.mean() + inp.mean() / 10,\n",
        "        max_ - max_ / 10,\n",
        "        \"Mean: {:.2f}\".format(inp.mean()),\n",
        "    )\n",
        "    return plt.figure\n",
        "\n",
        "\n",
        "\n",
        "def standadize(data):\n",
        "    mean = np.mean(data)\n",
        "    std = np.std(data)\n",
        "    return (data - mean)/std\n"
      ],
      "execution_count": null,
      "outputs": []
    },
    {
      "cell_type": "markdown",
      "metadata": {
        "id": "GmsmY3lpNXvZ"
      },
      "source": [
        "# **Task 1:Ignore diet and test to see if weight has been lost**"
      ]
    },
    {
      "cell_type": "markdown",
      "metadata": {
        "id": "Pmb7uEq9NhTR"
      },
      "source": [
        "Phát biểu giả thiết:\n",
        "\n",
        "H0 : μ0=μ1 . Cân nặng trung bình của trước và sau khi giảm cân là như nhau\n",
        "\n",
        "H1 : μ0≠μ1 . Cân nặng trung bình của trước và sau khi giảm cân khác nhau"
      ]
    },
    {
      "cell_type": "code",
      "metadata": {
        "id": "v54DLf8RNdYB"
      },
      "source": [
        "truoc = dtnew['pre.weight']\n",
        "sau = dtnew['weight6weeks']  "
      ],
      "execution_count": null,
      "outputs": []
    },
    {
      "cell_type": "code",
      "metadata": {
        "colab": {
          "base_uri": "https://localhost:8080/"
        },
        "id": "_K_-IZysOvPg",
        "outputId": "a6d42e22-fefc-46f5-f702-10504d8d3e13"
      },
      "source": [
        "\n",
        "stt, pv = stats.ttest_ind(truoc, sau)\n",
        "print('Giá trị kiểm định = ',stt)\n",
        "print('pvalue  = ',pv)\n",
        "if (pv > 0.05):\n",
        "    print(\"Không có bằng chứng để bác bỏ H0 \")\n",
        "    print('Điều này ngụ ý là: 𝜇0=𝜇1 . Cân nặng trung bình của trước và sau khi giảm cân là như nhau với mức ý nghĩa 5% ')\n",
        "else:\n",
        "    print('đã có đủ bằng chứng để bác bỏ H0')\n",
        "    print('ta chấp nhận giả thiết Ha với mực ý nghĩa là 5%')\n",
        "    print(' Cân nặng trung bình của trước và sau khi giảm cân khác nhau')\n",
        "print('-'*50)"
      ],
      "execution_count": null,
      "outputs": [
        {
          "output_type": "stream",
          "text": [
            "Giá trị kiểm định =  3.0342255247628476\n",
            "pvalue  =  0.0028431949414180584\n",
            "đã có đủ bằng chứng để bác bỏ H0: 𝜇0=𝜇1 . Cân nặng trung bình của trước và sau khi giảm cân là như nhau\n",
            "ta chấp nhận giả thiết Ha với mực ý nghĩa là 5%\n",
            " Cân nặng trung bình của trước và sau khi giảm cân khác nhau\n",
            "--------------------------------------------------\n"
          ],
          "name": "stdout"
        }
      ]
    },
    {
      "cell_type": "markdown",
      "metadata": {
        "id": "lhNMcvnzP8tI"
      },
      "source": [
        "# **Task 2: Remove weight lost and get students to calculate it using before/after weights**\n"
      ]
    },
    {
      "cell_type": "code",
      "metadata": {
        "colab": {
          "base_uri": "https://localhost:8080/",
          "height": 416
        },
        "id": "F02RVU98PgPj",
        "outputId": "d9ef4dfa-4521-43b3-ec68-ea0c16e866c2"
      },
      "source": [
        "# Biểu đồ cân nặng trước và sau khi giảm cân\n",
        "\n",
        "plt.figure(figsize=(6, 8))\n",
        "plt.style.use('seaborn')\n",
        "dtnew[['pre.weight', 'weight6weeks']].plot(color= ['r', 'b'])\n",
        "plt.title('Truoc va sau khi giam can', fontsize=20)"
      ],
      "execution_count": null,
      "outputs": [
        {
          "output_type": "execute_result",
          "data": {
            "text/plain": [
              "Text(0.5, 1.0, 'Truoc va sau khi giam can')"
            ]
          },
          "metadata": {
            "tags": []
          },
          "execution_count": 8
        },
        {
          "output_type": "display_data",
          "data": {
            "text/plain": [
              "<Figure size 432x576 with 0 Axes>"
            ]
          },
          "metadata": {
            "tags": []
          }
        },
        {
          "output_type": "display_data",
          "data": {
            "image/png": "[encoded data removed]",
            "text/plain": [
              "<Figure size 576x396 with 1 Axes>"
            ]
          },
          "metadata": {
            "tags": []
          }
        }
      ]
    },
    {
      "cell_type": "code",
      "metadata": {
        "colab": {
          "base_uri": "https://localhost:8080/",
          "height": 390
        },
        "id": "rLJBoO6QQCVY",
        "outputId": "b29f6294-8efa-41e1-9709-cab6f7178fe8"
      },
      "source": [
        "#Thêm cột dữ liệu lost weight\n",
        "lw = truoc - sau\n",
        "dtnew.insert(6, 'lostweight', lw)\n",
        "dtnew.head(10)\n"
      ],
      "execution_count": null,
      "outputs": [
        {
          "output_type": "execute_result",
          "data": {
            "text/html": [
              "<div>\n",
              "<style scoped>\n",
              "    .dataframe tbody tr th:only-of-type {\n",
              "        vertical-align: middle;\n",
              "    }\n",
              "\n",
              "    .dataframe tbody tr th {\n",
              "        vertical-align: top;\n",
              "    }\n",
              "\n",
              "    .dataframe thead th {\n",
              "        text-align: right;\n",
              "    }\n",
              "</style>\n",
              "<table border=\"1\" class=\"dataframe\">\n",
              "  <thead>\n",
              "    <tr style=\"text-align: right;\">\n",
              "      <th></th>\n",
              "      <th>gender</th>\n",
              "      <th>Age</th>\n",
              "      <th>Height</th>\n",
              "      <th>pre.weight</th>\n",
              "      <th>Diet</th>\n",
              "      <th>weight6weeks</th>\n",
              "      <th>lostweight</th>\n",
              "    </tr>\n",
              "    <tr>\n",
              "      <th>Person</th>\n",
              "      <th></th>\n",
              "      <th></th>\n",
              "      <th></th>\n",
              "      <th></th>\n",
              "      <th></th>\n",
              "      <th></th>\n",
              "      <th></th>\n",
              "    </tr>\n",
              "  </thead>\n",
              "  <tbody>\n",
              "    <tr>\n",
              "      <th>1</th>\n",
              "      <td>0.0</td>\n",
              "      <td>22</td>\n",
              "      <td>159</td>\n",
              "      <td>58</td>\n",
              "      <td>1</td>\n",
              "      <td>54.2</td>\n",
              "      <td>3.8</td>\n",
              "    </tr>\n",
              "    <tr>\n",
              "      <th>2</th>\n",
              "      <td>0.0</td>\n",
              "      <td>46</td>\n",
              "      <td>192</td>\n",
              "      <td>60</td>\n",
              "      <td>1</td>\n",
              "      <td>54.0</td>\n",
              "      <td>6.0</td>\n",
              "    </tr>\n",
              "    <tr>\n",
              "      <th>3</th>\n",
              "      <td>0.0</td>\n",
              "      <td>55</td>\n",
              "      <td>170</td>\n",
              "      <td>64</td>\n",
              "      <td>1</td>\n",
              "      <td>63.3</td>\n",
              "      <td>0.7</td>\n",
              "    </tr>\n",
              "    <tr>\n",
              "      <th>4</th>\n",
              "      <td>0.0</td>\n",
              "      <td>33</td>\n",
              "      <td>171</td>\n",
              "      <td>64</td>\n",
              "      <td>1</td>\n",
              "      <td>61.1</td>\n",
              "      <td>2.9</td>\n",
              "    </tr>\n",
              "    <tr>\n",
              "      <th>5</th>\n",
              "      <td>0.0</td>\n",
              "      <td>50</td>\n",
              "      <td>170</td>\n",
              "      <td>65</td>\n",
              "      <td>1</td>\n",
              "      <td>62.2</td>\n",
              "      <td>2.8</td>\n",
              "    </tr>\n",
              "    <tr>\n",
              "      <th>6</th>\n",
              "      <td>0.0</td>\n",
              "      <td>50</td>\n",
              "      <td>201</td>\n",
              "      <td>66</td>\n",
              "      <td>1</td>\n",
              "      <td>64.0</td>\n",
              "      <td>2.0</td>\n",
              "    </tr>\n",
              "    <tr>\n",
              "      <th>7</th>\n",
              "      <td>0.0</td>\n",
              "      <td>37</td>\n",
              "      <td>174</td>\n",
              "      <td>67</td>\n",
              "      <td>1</td>\n",
              "      <td>65.0</td>\n",
              "      <td>2.0</td>\n",
              "    </tr>\n",
              "    <tr>\n",
              "      <th>8</th>\n",
              "      <td>0.0</td>\n",
              "      <td>28</td>\n",
              "      <td>176</td>\n",
              "      <td>69</td>\n",
              "      <td>1</td>\n",
              "      <td>60.5</td>\n",
              "      <td>8.5</td>\n",
              "    </tr>\n",
              "    <tr>\n",
              "      <th>9</th>\n",
              "      <td>0.0</td>\n",
              "      <td>28</td>\n",
              "      <td>165</td>\n",
              "      <td>70</td>\n",
              "      <td>1</td>\n",
              "      <td>68.1</td>\n",
              "      <td>1.9</td>\n",
              "    </tr>\n",
              "    <tr>\n",
              "      <th>10</th>\n",
              "      <td>0.0</td>\n",
              "      <td>45</td>\n",
              "      <td>165</td>\n",
              "      <td>70</td>\n",
              "      <td>1</td>\n",
              "      <td>66.9</td>\n",
              "      <td>3.1</td>\n",
              "    </tr>\n",
              "  </tbody>\n",
              "</table>\n",
              "</div>"
            ],
            "text/plain": [
              "        gender  Age  Height  pre.weight  Diet  weight6weeks  lostweight\n",
              "Person                                                                 \n",
              "1          0.0   22     159          58     1          54.2         3.8\n",
              "2          0.0   46     192          60     1          54.0         6.0\n",
              "3          0.0   55     170          64     1          63.3         0.7\n",
              "4          0.0   33     171          64     1          61.1         2.9\n",
              "5          0.0   50     170          65     1          62.2         2.8\n",
              "6          0.0   50     201          66     1          64.0         2.0\n",
              "7          0.0   37     174          67     1          65.0         2.0\n",
              "8          0.0   28     176          69     1          60.5         8.5\n",
              "9          0.0   28     165          70     1          68.1         1.9\n",
              "10         0.0   45     165          70     1          66.9         3.1"
            ]
          },
          "metadata": {
            "tags": []
          },
          "execution_count": 9
        }
      ]
    },
    {
      "cell_type": "code",
      "metadata": {
        "colab": {
          "base_uri": "https://localhost:8080/",
          "height": 459
        },
        "id": "a5nAGhQLRY7P",
        "outputId": "8450ba36-4f65-410b-a5ed-bd6285a8e096"
      },
      "source": [
        "hist(lw)\n",
        "plt.title('Graph of lost weight', size=20, color='b')\n",
        "plt.tight_layout()\n",
        "plt.show()"
      ],
      "execution_count": null,
      "outputs": [
        {
          "output_type": "stream",
          "text": [
            "/usr/local/lib/python3.7/dist-packages/seaborn/distributions.py:2557: FutureWarning: `distplot` is a deprecated function and will be removed in a future version. Please adapt your code to use either `displot` (a figure-level function with similar flexibility) or `histplot` (an axes-level function for histograms).\n",
            "  warnings.warn(msg, FutureWarning)\n"
          ],
          "name": "stderr"
        },
        {
          "output_type": "display_data",
          "data": {
            "image/png": "[encoded data removed]",
            "text/plain": [
              "<Figure size 576x396 with 1 Axes>"
            ]
          },
          "metadata": {
            "tags": []
          }
        }
      ]
    },
    {
      "cell_type": "code",
      "metadata": {
        "colab": {
          "base_uri": "https://localhost:8080/"
        },
        "id": "Aoly8hHXR0Z3",
        "outputId": "556e7037-03c7-4cd0-f280-e7353832a0a6"
      },
      "source": [
        "#Kiểm định t_test\n",
        "std1, p1 = scipy.stats.ttest_ind(truoc, sau)\n",
        "print('statistic:',std1,'--- p_value:',p1)\n",
        "print('-'*100)\n",
        "if p1 < 0.05:\n",
        "  print('Có đủ bằng chứng để bác bỏ giả thuyết H0')\n",
        "else:\n",
        "  print('Chưa có đủ bằng chứng để bác bỏ giả thuyết H0')"
      ],
      "execution_count": null,
      "outputs": [
        {
          "output_type": "stream",
          "text": [
            "statistic: 3.0342255247628476 --- p_value: 0.0028431949414180584\n",
            "----------------------------------------------------------------------------------------------------\n",
            "Có đủ bằng chứng để bác bỏ giả thuyết H0\n"
          ],
          "name": "stdout"
        }
      ]
    },
    {
      "cell_type": "markdown",
      "metadata": {
        "id": "RW8P0N3gUUA-"
      },
      "source": [
        "# **Task 3: Summary statistics by diet**\n"
      ]
    },
    {
      "cell_type": "code",
      "metadata": {
        "colab": {
          "base_uri": "https://localhost:8080/"
        },
        "id": "mRrGe1g-UW7-",
        "outputId": "54736ca6-d166-4716-8aa2-b2a5eac26bc5"
      },
      "source": [
        "dtnew['Diet'].describe()"
      ],
      "execution_count": null,
      "outputs": [
        {
          "output_type": "execute_result",
          "data": {
            "text/plain": [
              "count    76.000000\n",
              "mean      2.039474\n",
              "std       0.823663\n",
              "min       1.000000\n",
              "25%       1.000000\n",
              "50%       2.000000\n",
              "75%       3.000000\n",
              "max       3.000000\n",
              "Name: Diet, dtype: float64"
            ]
          },
          "metadata": {
            "tags": []
          },
          "execution_count": 12
        }
      ]
    },
    {
      "cell_type": "code",
      "metadata": {
        "colab": {
          "base_uri": "https://localhost:8080/",
          "height": 172
        },
        "id": "4Pu0shVeUkm2",
        "outputId": "e34d9e92-9a69-4fbd-e95a-d288d94729fc"
      },
      "source": [
        "# Bảng tần số\n",
        "x = dtnew.groupby('Diet')['Diet'].count()\n",
        "y = pd.DataFrame(x)\n",
        "y.columns = ['Số người']\n",
        "y['Phần trăm'] = y/sum(y['Số người'])*100\n",
        "y"
      ],
      "execution_count": null,
      "outputs": [
        {
          "output_type": "execute_result",
          "data": {
            "text/html": [
              "<div>\n",
              "<style scoped>\n",
              "    .dataframe tbody tr th:only-of-type {\n",
              "        vertical-align: middle;\n",
              "    }\n",
              "\n",
              "    .dataframe tbody tr th {\n",
              "        vertical-align: top;\n",
              "    }\n",
              "\n",
              "    .dataframe thead th {\n",
              "        text-align: right;\n",
              "    }\n",
              "</style>\n",
              "<table border=\"1\" class=\"dataframe\">\n",
              "  <thead>\n",
              "    <tr style=\"text-align: right;\">\n",
              "      <th></th>\n",
              "      <th>Số người</th>\n",
              "      <th>Phần trăm</th>\n",
              "    </tr>\n",
              "    <tr>\n",
              "      <th>Diet</th>\n",
              "      <th></th>\n",
              "      <th></th>\n",
              "    </tr>\n",
              "  </thead>\n",
              "  <tbody>\n",
              "    <tr>\n",
              "      <th>1</th>\n",
              "      <td>24</td>\n",
              "      <td>31.578947</td>\n",
              "    </tr>\n",
              "    <tr>\n",
              "      <th>2</th>\n",
              "      <td>25</td>\n",
              "      <td>32.894737</td>\n",
              "    </tr>\n",
              "    <tr>\n",
              "      <th>3</th>\n",
              "      <td>27</td>\n",
              "      <td>35.526316</td>\n",
              "    </tr>\n",
              "  </tbody>\n",
              "</table>\n",
              "</div>"
            ],
            "text/plain": [
              "      Số người  Phần trăm\n",
              "Diet                     \n",
              "1           24  31.578947\n",
              "2           25  32.894737\n",
              "3           27  35.526316"
            ]
          },
          "metadata": {
            "tags": []
          },
          "execution_count": 13
        }
      ]
    },
    {
      "cell_type": "code",
      "metadata": {
        "colab": {
          "base_uri": "https://localhost:8080/",
          "height": 718
        },
        "id": "DhbpCba9U2O-",
        "outputId": "d2b0dd7f-dcc3-4522-fa60-d7a4958f58ea"
      },
      "source": [
        "y.reset_index(inplace=True)\n",
        "\n",
        "ax =sns.barplot(x='Diet',y='Số người',data = y)\n",
        "plt.title('Thống kê chế độ ăn', size=20, color='r')\n",
        "plt.show()"
      ],
      "execution_count": null,
      "outputs": [
        {
          "output_type": "stream",
          "text": [
            "/usr/local/lib/python3.7/dist-packages/matplotlib/backends/backend_agg.py:214: RuntimeWarning: Glyph 7889 missing from current font.\n",
            "  font.set_text(s, 0.0, flags=flags)\n",
            "/usr/local/lib/python3.7/dist-packages/matplotlib/backends/backend_agg.py:214: RuntimeWarning: Glyph 7871 missing from current font.\n",
            "  font.set_text(s, 0.0, flags=flags)\n",
            "/usr/local/lib/python3.7/dist-packages/matplotlib/backends/backend_agg.py:214: RuntimeWarning: Glyph 7897 missing from current font.\n",
            "  font.set_text(s, 0.0, flags=flags)\n",
            "/usr/local/lib/python3.7/dist-packages/matplotlib/backends/backend_agg.py:214: RuntimeWarning: Glyph 432 missing from current font.\n",
            "  font.set_text(s, 0.0, flags=flags)\n",
            "/usr/local/lib/python3.7/dist-packages/matplotlib/backends/backend_agg.py:214: RuntimeWarning: Glyph 7901 missing from current font.\n",
            "  font.set_text(s, 0.0, flags=flags)\n",
            "/usr/local/lib/python3.7/dist-packages/matplotlib/backends/backend_agg.py:183: RuntimeWarning: Glyph 7889 missing from current font.\n",
            "  font.set_text(s, 0, flags=flags)\n",
            "/usr/local/lib/python3.7/dist-packages/matplotlib/backends/backend_agg.py:183: RuntimeWarning: Glyph 432 missing from current font.\n",
            "  font.set_text(s, 0, flags=flags)\n",
            "/usr/local/lib/python3.7/dist-packages/matplotlib/backends/backend_agg.py:183: RuntimeWarning: Glyph 7901 missing from current font.\n",
            "  font.set_text(s, 0, flags=flags)\n",
            "/usr/local/lib/python3.7/dist-packages/matplotlib/backends/backend_agg.py:183: RuntimeWarning: Glyph 7871 missing from current font.\n",
            "  font.set_text(s, 0, flags=flags)\n",
            "/usr/local/lib/python3.7/dist-packages/matplotlib/backends/backend_agg.py:183: RuntimeWarning: Glyph 7897 missing from current font.\n",
            "  font.set_text(s, 0, flags=flags)\n"
          ],
          "name": "stderr"
        },
        {
          "output_type": "display_data",
          "data": {
            "image/png": "[encoded data removed]",
            "text/plain": [
              "<Figure size 576x396 with 1 Axes>"
            ]
          },
          "metadata": {
            "tags": []
          }
        }
      ]
    },
    {
      "cell_type": "code",
      "metadata": {
        "colab": {
          "base_uri": "https://localhost:8080/"
        },
        "id": "4OHfWfWjVUIe",
        "outputId": "3f3bdca0-b2c7-42ac-d4a1-5cb18a6f4e00"
      },
      "source": [
        "# Lấy=\"Diet\" và \"lostweight\" để phân tích \n",
        "\n",
        "Dl = dtnew[['Diet', 'lostweight']]\n",
        "diet = dtnew.groupby('Diet').groups\n",
        "\n",
        "type_1 = dtnew['lostweight'][diet[1]]\n",
        "type_1.name = 'Diet Type 1'\n",
        "type_2 = dtnew['lostweight'][diet[2]]\n",
        "type_2.name = 'Diet Type 2'\n",
        "type_3 = dtnew['lostweight'][diet[3]]\n",
        "type_3.name = 'Diet Type 3'\n",
        "print(type_1.describe())\n",
        "print(type_2.describe())\n",
        "print(type_3.describe())\n"
      ],
      "execution_count": null,
      "outputs": [
        {
          "output_type": "stream",
          "text": [
            "count    24.000000\n",
            "mean      3.300000\n",
            "std       2.240148\n",
            "min      -0.600000\n",
            "25%       1.975000\n",
            "50%       3.050000\n",
            "75%       3.950000\n",
            "max       9.000000\n",
            "Name: Diet Type 1, dtype: float64\n",
            "count    25.000000\n",
            "mean      3.268000\n",
            "std       2.464535\n",
            "min      -2.100000\n",
            "25%       2.000000\n",
            "50%       3.500000\n",
            "75%       4.700000\n",
            "max       7.900000\n",
            "Name: Diet Type 2, dtype: float64\n",
            "count    27.000000\n",
            "mean      5.148148\n",
            "std       2.395568\n",
            "min       0.500000\n",
            "25%       3.450000\n",
            "50%       5.400000\n",
            "75%       7.000000\n",
            "max       9.200000\n",
            "Name: Diet Type 3, dtype: float64\n"
          ],
          "name": "stdout"
        }
      ]
    },
    {
      "cell_type": "markdown",
      "metadata": {
        "id": "EdvcYJSSZkb1"
      },
      "source": [
        "# **Task4:One way ANOVA**"
      ]
    },
    {
      "cell_type": "markdown",
      "metadata": {
        "id": "En4FBme2ZrL0"
      },
      "source": [
        "Xây dựng giả thiết:\n",
        "\n",
        "- $H_0: \\mu_1 = \\mu_2 = \\mu_3$\n",
        "\n",
        "- $H_1: \\mu_i \\neq \\mu_j$ (i $\\neq$ j ,  i, j $\\in \\overline{1,3}$)"
      ]
    },
    {
      "cell_type": "code",
      "metadata": {
        "id": "QejH5hjuZokF"
      },
      "source": [
        "# Kích thước của các mẫu không bằng nhau nên ta lấy ngẫu nhiên 20 giá trị \n",
        "\n",
        "type1 = type_1.sample(20)\n",
        "type2 = type_2.sample(20)\n",
        "type3 = type_3.sample(20)"
      ],
      "execution_count": null,
      "outputs": []
    },
    {
      "cell_type": "markdown",
      "metadata": {
        "id": "dd444FdyaPZk"
      },
      "source": [
        "## Kiểm tra mỗi nhóm có thuộc phân phối chuẩn chưa\n",
        "\n",
        "### Sử dụng Shapiro-Wilk test "
      ]
    },
    {
      "cell_type": "markdown",
      "metadata": {
        "id": "3__aI53QaU1L"
      },
      "source": [
        "   ## Phát biểu giả thiết:\n",
        "\n",
        "$H_0$: Diet type 1 là dữ liệu tuân theo phân phối chuẩn\n",
        "\n",
        "$H_1$: Diet type 1 không phải là dữ liệu tuân theo phân phối chuẩn"
      ]
    },
    {
      "cell_type": "code",
      "metadata": {
        "colab": {
          "base_uri": "https://localhost:8080/",
          "height": 824
        },
        "id": "EDC7gWFxaQB8",
        "outputId": "131824ad-ad2b-4f39-dfd6-6ad13ce3116a"
      },
      "source": [
        "hist(type1)\n",
        "plt.title('Graph of Diet 1',  size=20, color='y')\n",
        "sm.qqplot(standadize(type1), line ='45')\n",
        "plt.tight_layout()\n",
        "plt.show()"
      ],
      "execution_count": null,
      "outputs": [
        {
          "output_type": "stream",
          "text": [
            "/usr/local/lib/python3.7/dist-packages/seaborn/distributions.py:2557: FutureWarning: `distplot` is a deprecated function and will be removed in a future version. Please adapt your code to use either `displot` (a figure-level function with similar flexibility) or `histplot` (an axes-level function for histograms).\n",
            "  warnings.warn(msg, FutureWarning)\n"
          ],
          "name": "stderr"
        },
        {
          "output_type": "display_data",
          "data": {
            "image/png": "[encoded data removed]",
            "text/plain": [
              "<Figure size 576x396 with 1 Axes>"
            ]
          },
          "metadata": {
            "tags": []
          }
        },
        {
          "output_type": "display_data",
          "data": {
            "image/png": "[encoded data removed]",
            "text/plain": [
              "<Figure size 576x396 with 1 Axes>"
            ]
          },
          "metadata": {
            "tags": []
          }
        }
      ]
    },
    {
      "cell_type": "code",
      "metadata": {
        "colab": {
          "base_uri": "https://localhost:8080/"
        },
        "id": "NVIbihAobH03",
        "outputId": "ff3dfc25-6631-487c-f982-ab6dd04e3199"
      },
      "source": [
        "st1, p1 = stats.shapiro(type1)\n",
        "print('statistic of Diet type 1 = ',st1)\n",
        "print('pvalue of Diet type 1 = ',p1)\n",
        "if (p1 > 0.05):\n",
        "    print(\"Không có bằng chứng để bác bỏ H0: \")\n",
        "    print('Điều này ngụ ý là Diet type 1 là dữ liệu tuân theo phân phối chuẩn với mức ý nghĩa 5% ')\n",
        "    print('Đủ điều kiện để phân tích tiếp')\n",
        "else:\n",
        "    print('đã có đủ bằng chứng để bác bỏ H0')\n",
        "    print('ta chấp nhận giả thiết Ha với mực ý nghĩa là 5%')\n",
        "    print('Diet type 1 không phải là dữ liệu tuân theo phân phối chuẩn')"
      ],
      "execution_count": null,
      "outputs": [
        {
          "output_type": "stream",
          "text": [
            "statistic of Diet type 1 =  0.9398666024208069\n",
            "pvalue of Diet type 1 =  0.23839177191257477\n",
            "Không có bằng chứng để bác bỏ H0: \n",
            "Điều này ngụ ý là Diet type 1 là dữ liệu tuân theo phân phối chuẩn với mức ý nghĩa 5% \n",
            "Đủ điều kiện để phân tích tiếp\n"
          ],
          "name": "stdout"
        }
      ]
    },
    {
      "cell_type": "markdown",
      "metadata": {
        "id": "O7jGtPGEbuCE"
      },
      "source": [
        "   ## Phát biểu giả thiết:\n",
        "\n",
        "$H_0$: Diet type 2 là dữ liệu tuân theo phân phối chuẩn\n",
        "\n",
        "$H_1$: Diet type 2 không phải là dữ liệu tuân theo phân phối chuẩn"
      ]
    },
    {
      "cell_type": "code",
      "metadata": {
        "colab": {
          "base_uri": "https://localhost:8080/",
          "height": 824
        },
        "id": "zy1--b0_buss",
        "outputId": "10778d3a-6231-40cf-bbea-034970fa252d"
      },
      "source": [
        "hist(type2)\n",
        "plt.title('Graph of Diet 2', size=20, color='r')\n",
        "sm.qqplot(standadize(type1), line ='45')\n",
        "plt.tight_layout()\n",
        "plt.show()"
      ],
      "execution_count": null,
      "outputs": [
        {
          "output_type": "stream",
          "text": [
            "/usr/local/lib/python3.7/dist-packages/seaborn/distributions.py:2557: FutureWarning: `distplot` is a deprecated function and will be removed in a future version. Please adapt your code to use either `displot` (a figure-level function with similar flexibility) or `histplot` (an axes-level function for histograms).\n",
            "  warnings.warn(msg, FutureWarning)\n"
          ],
          "name": "stderr"
        },
        {
          "output_type": "display_data",
          "data": {
            "image/png": "[encoded data removed]",
            "text/plain": [
              "<Figure size 576x396 with 1 Axes>"
            ]
          },
          "metadata": {
            "tags": []
          }
        },
        {
          "output_type": "display_data",
          "data": {
            "image/png": "[encoded data removed]",
            "text/plain": [
              "<Figure size 576x396 with 1 Axes>"
            ]
          },
          "metadata": {
            "tags": []
          }
        }
      ]
    },
    {
      "cell_type": "code",
      "metadata": {
        "colab": {
          "base_uri": "https://localhost:8080/"
        },
        "id": "vr2N2RHQb2Hj",
        "outputId": "eebb1b4f-c08c-4fb0-ab5d-ca2726c872a5"
      },
      "source": [
        "st2, p2 = stats.shapiro(type2)\n",
        "print('statistic of Diet type 2 = ',st2)\n",
        "print('pvalue of Diet type 2 = ',p2)\n",
        "if (p2 > 0.05):\n",
        "    print(\"Không có bằng chứng để bác bỏ H0 \")\n",
        "    print('Điều này ngụ ý là Diet type 2 là dữ liệu tuân theo phân phối chuẩn với mức ý nghĩa 5% ')\n",
        "    print('Đủ điều kiện để phân tích tiếp')\n",
        "else:\n",
        "    print('đã có đủ bằng chứng để bác bỏ H0')\n",
        "    print('ta chấp nhận giả thiết Ha với mực ý nghĩa là 5%')\n",
        "    print('Diet type 2 không phải là dữ liệu tuân theo phân phối chuẩn')\n"
      ],
      "execution_count": null,
      "outputs": [
        {
          "output_type": "stream",
          "text": [
            "statistic of Diet type 2 =  0.9549493193626404\n",
            "pvalue of Diet type 2 =  0.4484790861606598\n",
            "Không có bằng chứng để bác bỏ H0 \n",
            "Điều này ngụ ý là Diet type 2 là dữ liệu tuân theo phân phối chuẩn với mức ý nghĩa 5% \n",
            "Đủ điều kiện để phân tích tiếp\n"
          ],
          "name": "stdout"
        }
      ]
    },
    {
      "cell_type": "markdown",
      "metadata": {
        "id": "l5NKWKaMb99T"
      },
      "source": [
        "  ##  Phát biểu giả thiết:\n",
        "\n",
        "$H_0$: Diet type 3 là dữ liệu tuân theo phân phối chuẩn\n",
        "\n",
        "$H_1$: Diet type 3 không phải là dữ liệu tuân theo phân phối chuẩn"
      ]
    },
    {
      "cell_type": "code",
      "metadata": {
        "colab": {
          "base_uri": "https://localhost:8080/",
          "height": 824
        },
        "id": "zgHa6eqAb-lt",
        "outputId": "4f6cec4d-b6b1-4f5d-b24f-940b08c377cc"
      },
      "source": [
        "hist(type3)\n",
        "plt.title('Graph of Diet 3',  size=20, color='r')\n",
        "sm.qqplot(standadize(type3), line ='45')\n",
        "plt.tight_layout()\n",
        "plt.show()"
      ],
      "execution_count": null,
      "outputs": [
        {
          "output_type": "stream",
          "text": [
            "/usr/local/lib/python3.7/dist-packages/seaborn/distributions.py:2557: FutureWarning: `distplot` is a deprecated function and will be removed in a future version. Please adapt your code to use either `displot` (a figure-level function with similar flexibility) or `histplot` (an axes-level function for histograms).\n",
            "  warnings.warn(msg, FutureWarning)\n"
          ],
          "name": "stderr"
        },
        {
          "output_type": "display_data",
          "data": {
            "image/png": "[encoded data removed]",
            "text/plain": [
              "<Figure size 576x396 with 1 Axes>"
            ]
          },
          "metadata": {
            "tags": []
          }
        },
        {
          "output_type": "display_data",
          "data": {
            "image/png": "[encoded data removed]",
            "text/plain": [
              "<Figure size 576x396 with 1 Axes>"
            ]
          },
          "metadata": {
            "tags": []
          }
        }
      ]
    },
    {
      "cell_type": "code",
      "metadata": {
        "colab": {
          "base_uri": "https://localhost:8080/"
        },
        "id": "7ZGZAWwLcDo1",
        "outputId": "0132cb17-3a0c-497e-bbb8-ca0068acd3e9"
      },
      "source": [
        "st3, p3 = stats.shapiro(type3)\n",
        "print('statistic of Diet type 3 = ',st3)\n",
        "print('pvalue of Diet type 13 = ',p3)\n",
        "if (p3 > 0.05):\n",
        "    print(\"Không có bằng chứng để bác bỏ H0\")\n",
        "    print('Điều này ngụ ý là: Diet type 3 là dữ liệu tuân theo phân phối chuẩn với mức ý nghĩa 5%')\n",
        "    print('Đủ điều kiện để phân tích tiếp')\n",
        "else:\n",
        "    print('đã có đủ bằng chứng để bác bỏ H0')\n",
        "    print('ta chấp nhận giả thiết Ha với mực ý nghĩa là 5%')\n",
        "    print('Diet type 3 không phải là dữ liệu tuân theo phân phối chuẩn')\n"
      ],
      "execution_count": null,
      "outputs": [
        {
          "output_type": "stream",
          "text": [
            "statistic of Diet type 3 =  0.929270327091217\n",
            "pvalue of Diet type 13 =  0.14950181543827057\n",
            "Không có bằng chứng để bác bỏ H0\n",
            "Điều này ngụ ý là: Diet type 3 là dữ liệu tuân theo phân phối chuẩn với mức ý nghĩa 5%\n",
            "Đủ điều kiện để phân tích tiếp\n"
          ],
          "name": "stdout"
        }
      ]
    },
    {
      "cell_type": "markdown",
      "metadata": {
        "id": "tBVEjU0ncO2L"
      },
      "source": [
        "Kiểm định tính thuần nhất phương sai\n",
        "\n",
        "Bartlett’s Test\n",
        "\n",
        "Phát biểu các giả thiết:\n",
        "\n",
        "$H_0$: Các feature đều có phương sai đồng nhất\n",
        "\n",
        "$H_1$: Có ít nhất 2 feature có phương sai khác nhau (lớn)\n",
        "\n",
        "Chú ý: Nếu p < 0.05 = $\\alpha$ thì loại giả thiết $H_0$. Tức là các feature không đồng nhất về phương sai."
      ]
    },
    {
      "cell_type": "code",
      "metadata": {
        "colab": {
          "base_uri": "https://localhost:8080/"
        },
        "id": "4H1SSdQOcOmd",
        "outputId": "55adcaee-24f0-44cf-d229-bd3d9a9262c5"
      },
      "source": [
        "st13, p13 = stats.bartlett(type1, type2, type3)\n",
        "print('statistic by Bartlett = ',st13)\n",
        "print('pvalue by Bartlett = ',p13)\n",
        "if (p13 > 0.05):\n",
        "    print('Không có bằng chứng để bác bỏ H0')\n",
        "    print('Điều này ngụ ý Các mẫu có phương sai giống nhau')\n",
        "    print('Đủ điều kiện đê phân tích ANOVA')\n",
        "else:\n",
        "    print('Đã có đủ bằng chứng để bác bỏ giả thuyết Ho')\n",
        "    print('Ta chấp nhận giả thuyết Ha với mức ý nghĩa là 5%:')\n",
        "    print('Có ít nhất 2 feature có phương sai khác nhau')\n"
      ],
      "execution_count": null,
      "outputs": [
        {
          "output_type": "stream",
          "text": [
            "statistic by Bartlett =  0.10091881810561258\n",
            "pvalue by Bartlett =  0.9507925214580935\n",
            "Không có bằng chứng để bác bỏ H0\n",
            "Điều này ngụ ý Các mẫu có phương sai giống nhau\n",
            "Đủ điều kiện đê phân tích ANOVA\n"
          ],
          "name": "stdout"
        }
      ]
    },
    {
      "cell_type": "markdown",
      "metadata": {
        "id": "zEPNvSPVf6Tr"
      },
      "source": [
        "## Kiểm định ANOVA one way"
      ]
    },
    {
      "cell_type": "markdown",
      "metadata": {
        "id": "Gdpkd4xpgI8y"
      },
      "source": [
        " ### Phát biểu giả thiết:\n",
        " \n",
        "\n",
        "$H_{0}: \\mu_{1} = \\mu_{2} = \\mu_{3}$\n",
        "\n",
        "$H_{a}: \\text{Có tối thiểu một cặp giá trị trung bình có giá trị khác nhau}$"
      ]
    },
    {
      "cell_type": "code",
      "metadata": {
        "colab": {
          "base_uri": "https://localhost:8080/"
        },
        "id": "oiu74lPzf-AD",
        "outputId": "f75d2da2-a998-4588-f7cd-a95774297918"
      },
      "source": [
        "from scipy.stats import f_oneway\n",
        "st, p = f_oneway(type1, type2, type3)\n",
        "alpha = 0.05\n",
        "print('Giá trị kiểm định: ',st)\n",
        "print('p_value: ',p)\n",
        "if (p < alpha):\n",
        "    print('Có bằng chứng bác bỏ giả thuyết H0')\n",
        "else:\n",
        "    print(\"Không đủ bằng chứng bác bỏ giả thuyết H0.\")\n",
        "    print(\"Với mức ý nghĩa 5%: \")\n",
        "    print(\"Điều này ngụ ý rằng hiệu quả giữa các phương pháp không có sự khác biệt\")"
      ],
      "execution_count": null,
      "outputs": [
        {
          "output_type": "stream",
          "text": [
            "Giá trị kiểm định:  3.3986716235208743\n",
            "p_value:  0.04032361615052751\n",
            "Có bằng chứng bác bỏ giả thuyết H0\n"
          ],
          "name": "stdout"
        }
      ]
    },
    {
      "cell_type": "code",
      "metadata": {
        "colab": {
          "base_uri": "https://localhost:8080/",
          "height": 647
        },
        "id": "ZJbaUCtmgWe5",
        "outputId": "59b24595-c864-40cc-a378-caf789bb464d"
      },
      "source": [
        "plt.figure(figsize=(15, 10))\n",
        "plt.plot(type_1)\n",
        "plt.plot(type_2)\n",
        "plt.plot(type_3)\n",
        "plt.title(\"3 diet\", fontsize=20)\n",
        "plt.xlabel(\"Index\", fontsize=15)\n",
        "plt.ylabel(\"Decrease_weight\", fontsize=15)\n",
        "plt.legend([\"Diet type_1\", \"Diet type_2\", \"Diet type_3\"])"
      ],
      "execution_count": null,
      "outputs": [
        {
          "output_type": "execute_result",
          "data": {
            "text/plain": [
              "<matplotlib.legend.Legend at 0x7fa7cd2c4910>"
            ]
          },
          "metadata": {
            "tags": []
          },
          "execution_count": 25
        },
        {
          "output_type": "display_data",
          "data": {
            "image/png": "[encoded data removed]",
            "text/plain": [
              "<Figure size 1080x720 with 1 Axes>"
            ]
          },
          "metadata": {
            "tags": []
          }
        }
      ]
    },
    {
      "cell_type": "code",
      "metadata": {
        "colab": {
          "base_uri": "https://localhost:8080/",
          "height": 574
        },
        "id": "KHeQadq7grTl",
        "outputId": "2978f1e0-d566-4215-fa49-ae96fd4a42e2"
      },
      "source": [
        "plt.figure(figsize=(8, 8))\n",
        "plt.title('3 diet ', fontsize=20)\n",
        "pd.DataFrame({'Type_1': type_1, 'Type_2': type_2, 'Type_3': type_3}).boxplot()\n",
        "plt.ylabel('Count', fontsize=15)"
      ],
      "execution_count": null,
      "outputs": [
        {
          "output_type": "stream",
          "text": [
            "/usr/local/lib/python3.7/dist-packages/numpy/core/_asarray.py:83: VisibleDeprecationWarning: Creating an ndarray from ragged nested sequences (which is a list-or-tuple of lists-or-tuples-or ndarrays with different lengths or shapes) is deprecated. If you meant to do this, you must specify 'dtype=object' when creating the ndarray\n",
            "  return array(a, dtype, copy=False, order=order)\n"
          ],
          "name": "stderr"
        },
        {
          "output_type": "execute_result",
          "data": {
            "text/plain": [
              "Text(0, 0.5, 'Count')"
            ]
          },
          "metadata": {
            "tags": []
          },
          "execution_count": 26
        },
        {
          "output_type": "display_data",
          "data": {
            "image/png": "[encoded data removed]",
            "text/plain": [
              "<Figure size 576x576 with 1 Axes>"
            ]
          },
          "metadata": {
            "tags": []
          }
        }
      ]
    },
    {
      "cell_type": "markdown",
      "metadata": {
        "id": "xHfnCv-TiI2D"
      },
      "source": [
        "### Hậu kiểm ANOVA"
      ]
    },
    {
      "cell_type": "code",
      "metadata": {
        "colab": {
          "base_uri": "https://localhost:8080/",
          "height": 134
        },
        "id": "SlO_G0AkiKpK",
        "outputId": "59fdb041-bfe9-42f9-c26b-5b02e9c595f2"
      },
      "source": [
        "# Hậu kiểm ANOVA\n",
        "from statsmodels.stats.multicomp import pairwise_tukeyhsd\n",
        "tukey = pairwise_tukeyhsd(endog=dtnew['lostweight'],\n",
        "                          groups=dtnew['Diet'],\n",
        "                          alpha=0.05)\n",
        "tukey.summary()"
      ],
      "execution_count": null,
      "outputs": [
        {
          "output_type": "execute_result",
          "data": {
            "text/html": [
              "<table class=\"simpletable\">\n",
              "<caption>Multiple Comparison of Means - Tukey HSD, FWER=0.05</caption>\n",
              "<tr>\n",
              "  <th>group1</th> <th>group2</th> <th>meandiff</th>  <th>p-adj</th>  <th>lower</th>   <th>upper</th> <th>reject</th>\n",
              "</tr>\n",
              "<tr>\n",
              "     <td>1</td>      <td>2</td>    <td>-0.032</td>    <td>0.9</td>  <td>-1.6531</td> <td>1.5891</td>  <td>False</td>\n",
              "</tr>\n",
              "<tr>\n",
              "     <td>1</td>      <td>3</td>    <td>1.8481</td>  <td>0.0188</td> <td>0.2567</td>  <td>3.4396</td>  <td>True</td> \n",
              "</tr>\n",
              "<tr>\n",
              "     <td>2</td>      <td>3</td>    <td>1.8801</td>  <td>0.0152</td> <td>0.3057</td>  <td>3.4546</td>  <td>True</td> \n",
              "</tr>\n",
              "</table>"
            ],
            "text/plain": [
              "<class 'statsmodels.iolib.table.SimpleTable'>"
            ]
          },
          "metadata": {
            "tags": []
          },
          "execution_count": 27
        }
      ]
    },
    {
      "cell_type": "code",
      "metadata": {
        "colab": {
          "base_uri": "https://localhost:8080/",
          "height": 142
        },
        "id": "_OWUXUhGiXwj",
        "outputId": "a3a414ac-632a-4dc1-a73e-400f8f5a40c4"
      },
      "source": [
        "Range = [type_1.max()-type_1.min(), type_2.max()-type_2.min(), type_3.max()-type_3.min()]\n",
        "Std = [type_1.std(), type_2.std(), type_3.std()]\n",
        "Name = ['1', '2', '3']\n",
        "table = list(zip(Name, Range, Std))\n",
        "table = pd.DataFrame(table)\n",
        "table.columns = ['Type', 'Range', 'Std']\n",
        "table"
      ],
      "execution_count": null,
      "outputs": [
        {
          "output_type": "execute_result",
          "data": {
            "text/html": [
              "<div>\n",
              "<style scoped>\n",
              "    .dataframe tbody tr th:only-of-type {\n",
              "        vertical-align: middle;\n",
              "    }\n",
              "\n",
              "    .dataframe tbody tr th {\n",
              "        vertical-align: top;\n",
              "    }\n",
              "\n",
              "    .dataframe thead th {\n",
              "        text-align: right;\n",
              "    }\n",
              "</style>\n",
              "<table border=\"1\" class=\"dataframe\">\n",
              "  <thead>\n",
              "    <tr style=\"text-align: right;\">\n",
              "      <th></th>\n",
              "      <th>Type</th>\n",
              "      <th>Range</th>\n",
              "      <th>Std</th>\n",
              "    </tr>\n",
              "  </thead>\n",
              "  <tbody>\n",
              "    <tr>\n",
              "      <th>0</th>\n",
              "      <td>1</td>\n",
              "      <td>9.6</td>\n",
              "      <td>2.240148</td>\n",
              "    </tr>\n",
              "    <tr>\n",
              "      <th>1</th>\n",
              "      <td>2</td>\n",
              "      <td>10.0</td>\n",
              "      <td>2.464535</td>\n",
              "    </tr>\n",
              "    <tr>\n",
              "      <th>2</th>\n",
              "      <td>3</td>\n",
              "      <td>8.7</td>\n",
              "      <td>2.395568</td>\n",
              "    </tr>\n",
              "  </tbody>\n",
              "</table>\n",
              "</div>"
            ],
            "text/plain": [
              "  Type  Range       Std\n",
              "0    1    9.6  2.240148\n",
              "1    2   10.0  2.464535\n",
              "2    3    8.7  2.395568"
            ]
          },
          "metadata": {
            "tags": []
          },
          "execution_count": 28
        }
      ]
    },
    {
      "cell_type": "markdown",
      "metadata": {
        "id": "jzvQDVIejPfw"
      },
      "source": [
        "$\\Rightarrow$ Loại 2 cho hiệu quả tốt nhất vì phạm vi và độ lệch chuẩn lớn nhất\n",
        "\n"
      ]
    },
    {
      "cell_type": "markdown",
      "metadata": {
        "id": "8TV_HqR8jf7x"
      },
      "source": [
        "## Kiểm tra các điều kiện cho kiểm định Anova"
      ]
    },
    {
      "cell_type": "code",
      "metadata": {
        "colab": {
          "base_uri": "https://localhost:8080/",
          "height": 110
        },
        "id": "L3FtQQ10jiMY",
        "outputId": "dda082c4-f791-45e8-f7ec-2640d7ee59f9"
      },
      "source": [
        "model = ols('lostweight ~ C(Diet)', data = dtnew).fit()\n",
        "aov_table = sm.stats.anova_lm(model, typ=2)\n",
        "aov_table"
      ],
      "execution_count": null,
      "outputs": [
        {
          "output_type": "execute_result",
          "data": {
            "text/html": [
              "<div>\n",
              "<style scoped>\n",
              "    .dataframe tbody tr th:only-of-type {\n",
              "        vertical-align: middle;\n",
              "    }\n",
              "\n",
              "    .dataframe tbody tr th {\n",
              "        vertical-align: top;\n",
              "    }\n",
              "\n",
              "    .dataframe thead th {\n",
              "        text-align: right;\n",
              "    }\n",
              "</style>\n",
              "<table border=\"1\" class=\"dataframe\">\n",
              "  <thead>\n",
              "    <tr style=\"text-align: right;\">\n",
              "      <th></th>\n",
              "      <th>sum_sq</th>\n",
              "      <th>df</th>\n",
              "      <th>F</th>\n",
              "      <th>PR(&gt;F)</th>\n",
              "    </tr>\n",
              "  </thead>\n",
              "  <tbody>\n",
              "    <tr>\n",
              "      <th>C(Diet)</th>\n",
              "      <td>60.527008</td>\n",
              "      <td>2.0</td>\n",
              "      <td>5.383104</td>\n",
              "      <td>0.006596</td>\n",
              "    </tr>\n",
              "    <tr>\n",
              "      <th>Residual</th>\n",
              "      <td>410.401807</td>\n",
              "      <td>73.0</td>\n",
              "      <td>NaN</td>\n",
              "      <td>NaN</td>\n",
              "    </tr>\n",
              "  </tbody>\n",
              "</table>\n",
              "</div>"
            ],
            "text/plain": [
              "              sum_sq    df         F    PR(>F)\n",
              "C(Diet)    60.527008   2.0  5.383104  0.006596\n",
              "Residual  410.401807  73.0       NaN       NaN"
            ]
          },
          "metadata": {
            "tags": []
          },
          "execution_count": 29
        }
      ]
    },
    {
      "cell_type": "markdown",
      "metadata": {
        "id": "ZsnT9CHcjSWZ"
      },
      "source": [
        "**4.2: Are there gender differences for weight lost?**\n"
      ]
    },
    {
      "cell_type": "markdown",
      "metadata": {
        "id": "K2nrUmTkjqCh"
      },
      "source": [
        "- Xây dựng giả thuyết \n",
        "\n",
        "$H_0:$ Khả năng giảm cân phụ thuộc vào giới tính\n",
        "\n",
        "$H_0:$ Khả năng giảm cân không phụ thuộc vào giới tính"
      ]
    },
    {
      "cell_type": "code",
      "metadata": {
        "colab": {
          "base_uri": "https://localhost:8080/",
          "height": 447
        },
        "id": "JiKyOA0uiY4Q",
        "outputId": "45d3d243-2ef2-4293-c055-8ac314acdd65"
      },
      "source": [
        "dtt = dtnew[['gender', 'lostweight']]\n",
        "dtt"
      ],
      "execution_count": null,
      "outputs": [
        {
          "output_type": "execute_result",
          "data": {
            "text/html": [
              "<div>\n",
              "<style scoped>\n",
              "    .dataframe tbody tr th:only-of-type {\n",
              "        vertical-align: middle;\n",
              "    }\n",
              "\n",
              "    .dataframe tbody tr th {\n",
              "        vertical-align: top;\n",
              "    }\n",
              "\n",
              "    .dataframe thead th {\n",
              "        text-align: right;\n",
              "    }\n",
              "</style>\n",
              "<table border=\"1\" class=\"dataframe\">\n",
              "  <thead>\n",
              "    <tr style=\"text-align: right;\">\n",
              "      <th></th>\n",
              "      <th>gender</th>\n",
              "      <th>lostweight</th>\n",
              "    </tr>\n",
              "    <tr>\n",
              "      <th>Person</th>\n",
              "      <th></th>\n",
              "      <th></th>\n",
              "    </tr>\n",
              "  </thead>\n",
              "  <tbody>\n",
              "    <tr>\n",
              "      <th>1</th>\n",
              "      <td>0.0</td>\n",
              "      <td>3.8</td>\n",
              "    </tr>\n",
              "    <tr>\n",
              "      <th>2</th>\n",
              "      <td>0.0</td>\n",
              "      <td>6.0</td>\n",
              "    </tr>\n",
              "    <tr>\n",
              "      <th>3</th>\n",
              "      <td>0.0</td>\n",
              "      <td>0.7</td>\n",
              "    </tr>\n",
              "    <tr>\n",
              "      <th>4</th>\n",
              "      <td>0.0</td>\n",
              "      <td>2.9</td>\n",
              "    </tr>\n",
              "    <tr>\n",
              "      <th>5</th>\n",
              "      <td>0.0</td>\n",
              "      <td>2.8</td>\n",
              "    </tr>\n",
              "    <tr>\n",
              "      <th>...</th>\n",
              "      <td>...</td>\n",
              "      <td>...</td>\n",
              "    </tr>\n",
              "    <tr>\n",
              "      <th>74</th>\n",
              "      <td>1.0</td>\n",
              "      <td>2.8</td>\n",
              "    </tr>\n",
              "    <tr>\n",
              "      <th>75</th>\n",
              "      <td>1.0</td>\n",
              "      <td>4.1</td>\n",
              "    </tr>\n",
              "    <tr>\n",
              "      <th>76</th>\n",
              "      <td>1.0</td>\n",
              "      <td>5.3</td>\n",
              "    </tr>\n",
              "    <tr>\n",
              "      <th>77</th>\n",
              "      <td>1.0</td>\n",
              "      <td>9.2</td>\n",
              "    </tr>\n",
              "    <tr>\n",
              "      <th>78</th>\n",
              "      <td>1.0</td>\n",
              "      <td>6.1</td>\n",
              "    </tr>\n",
              "  </tbody>\n",
              "</table>\n",
              "<p>76 rows × 2 columns</p>\n",
              "</div>"
            ],
            "text/plain": [
              "        gender  lostweight\n",
              "Person                    \n",
              "1          0.0         3.8\n",
              "2          0.0         6.0\n",
              "3          0.0         0.7\n",
              "4          0.0         2.9\n",
              "5          0.0         2.8\n",
              "...        ...         ...\n",
              "74         1.0         2.8\n",
              "75         1.0         4.1\n",
              "76         1.0         5.3\n",
              "77         1.0         9.2\n",
              "78         1.0         6.1\n",
              "\n",
              "[76 rows x 2 columns]"
            ]
          },
          "metadata": {
            "tags": []
          },
          "execution_count": 30
        }
      ]
    },
    {
      "cell_type": "markdown",
      "metadata": {
        "id": "QLPKvXhZj4TZ"
      },
      "source": [
        "### Summary statistics"
      ]
    },
    {
      "cell_type": "code",
      "metadata": {
        "colab": {
          "base_uri": "https://localhost:8080/",
          "height": 142
        },
        "id": "xgpK_eaTj6K4",
        "outputId": "5de1e01a-fd17-4172-9acf-3bf402422b53"
      },
      "source": [
        "# Bảng tần số\n",
        "gen = dtt.groupby('gender')['gender'].count()\n",
        "gend = pd.DataFrame(gen)\n",
        "gend.columns = ['Số người']\n",
        "gend['Phần trăm'] = gend/sum(gend['Số người'])*100\n",
        "gend"
      ],
      "execution_count": null,
      "outputs": [
        {
          "output_type": "execute_result",
          "data": {
            "text/html": [
              "<div>\n",
              "<style scoped>\n",
              "    .dataframe tbody tr th:only-of-type {\n",
              "        vertical-align: middle;\n",
              "    }\n",
              "\n",
              "    .dataframe tbody tr th {\n",
              "        vertical-align: top;\n",
              "    }\n",
              "\n",
              "    .dataframe thead th {\n",
              "        text-align: right;\n",
              "    }\n",
              "</style>\n",
              "<table border=\"1\" class=\"dataframe\">\n",
              "  <thead>\n",
              "    <tr style=\"text-align: right;\">\n",
              "      <th></th>\n",
              "      <th>Số người</th>\n",
              "      <th>Phần trăm</th>\n",
              "    </tr>\n",
              "    <tr>\n",
              "      <th>gender</th>\n",
              "      <th></th>\n",
              "      <th></th>\n",
              "    </tr>\n",
              "  </thead>\n",
              "  <tbody>\n",
              "    <tr>\n",
              "      <th>0.0</th>\n",
              "      <td>43</td>\n",
              "      <td>56.578947</td>\n",
              "    </tr>\n",
              "    <tr>\n",
              "      <th>1.0</th>\n",
              "      <td>33</td>\n",
              "      <td>43.421053</td>\n",
              "    </tr>\n",
              "  </tbody>\n",
              "</table>\n",
              "</div>"
            ],
            "text/plain": [
              "        Số người  Phần trăm\n",
              "gender                     \n",
              "0.0           43  56.578947\n",
              "1.0           33  43.421053"
            ]
          },
          "metadata": {
            "tags": []
          },
          "execution_count": 31
        }
      ]
    },
    {
      "cell_type": "code",
      "metadata": {
        "id": "AWp1Dznxj_tZ"
      },
      "source": [
        "# Nhóm các mẫu\n",
        "gr = dtt.groupby('gender').groups\n",
        "fema = dtt['lostweight'][gr[0]]\n",
        "fema.name = 'Female'\n",
        "ma = dtt['lostweight'][gr[1]]\n",
        "ma.name = 'Male'"
      ],
      "execution_count": null,
      "outputs": []
    },
    {
      "cell_type": "markdown",
      "metadata": {
        "id": "xLVzAnRykL0h"
      },
      "source": [
        "## Bởi 2 mẫu có kích thước không bằng nhau nên ta lấy ngẫu nhiên 30 giá trị ngẫu nhiên trong mỗi mẫu."
      ]
    },
    {
      "cell_type": "code",
      "metadata": {
        "id": "r9E-A4HNkMGr"
      },
      "source": [
        "female = fema.sample(30)\n",
        "male = ma.sample(30)"
      ],
      "execution_count": null,
      "outputs": []
    },
    {
      "cell_type": "markdown",
      "metadata": {
        "id": "TU0Wvy2ekPo4"
      },
      "source": [
        "## Kiểm tra mỗi nhóm có thuộc phân phối chuẩn chưa\n",
        "\n",
        "### Sử dụng Shapiro-Wilk test \n"
      ]
    },
    {
      "cell_type": "markdown",
      "metadata": {
        "id": "X3Yit4OukQ2x"
      },
      "source": [
        "  ##  Phát biểu giả thiết:\n",
        "\n",
        "$H_0$: female là dữ liệu tuân theo phân phối chuẩn\n",
        "\n",
        "$H_a$: female không phải là dữ liệu tuân theo phân phối chuẩn"
      ]
    },
    {
      "cell_type": "code",
      "metadata": {
        "colab": {
          "base_uri": "https://localhost:8080/",
          "height": 824
        },
        "id": "nhuqptBYkTJx",
        "outputId": "9299e0dd-f2a0-42ed-f3e5-a23f58aec704"
      },
      "source": [
        "hist(female)\n",
        "plt.title('Graph of female',  size=20, color='r')\n",
        "sm.qqplot(standadize(female), line ='45')\n",
        "plt.tight_layout()\n",
        "plt.show()"
      ],
      "execution_count": null,
      "outputs": [
        {
          "output_type": "stream",
          "text": [
            "/usr/local/lib/python3.7/dist-packages/seaborn/distributions.py:2557: FutureWarning: `distplot` is a deprecated function and will be removed in a future version. Please adapt your code to use either `displot` (a figure-level function with similar flexibility) or `histplot` (an axes-level function for histograms).\n",
            "  warnings.warn(msg, FutureWarning)\n"
          ],
          "name": "stderr"
        },
        {
          "output_type": "display_data",
          "data": {
            "image/png": "[encoded data removed]",
            "text/plain": [
              "<Figure size 576x396 with 1 Axes>"
            ]
          },
          "metadata": {
            "tags": []
          }
        },
        {
          "output_type": "display_data",
          "data": {
            "image/png": "[encoded data removed]",
            "text/plain": [
              "<Figure size 576x396 with 1 Axes>"
            ]
          },
          "metadata": {
            "tags": []
          }
        }
      ]
    },
    {
      "cell_type": "code",
      "metadata": {
        "colab": {
          "base_uri": "https://localhost:8080/"
        },
        "id": "59OPpVKckWzR",
        "outputId": "a21e609a-c2d8-424a-8f99-424da424fc25"
      },
      "source": [
        "stf, pf = stats.shapiro(female)\n",
        "print('statistic of Diet female = ',stf)\n",
        "print('pvalue of Diet female = ',pf)\n",
        "if (pf > 0.05):\n",
        "    print(\"Không có bằng chứng để bác bỏ H0 \")\n",
        "    print('Điều này ngụ ý là:female là dữ liệu tuân theo phân phối chuẩn với mức ý nghĩa 5% ')\n",
        "    print('Đủ điều kiện để phân tích tiếp')\n",
        "else:\n",
        "    print('đã có đủ bằng chứng để bác bỏ H0')\n",
        "    print('ta chấp nhận giả thiết Ha với mực ý nghĩa là 5%')\n",
        "    print('female không phải là dữ liệu tuân theo phân phối chuẩn')"
      ],
      "execution_count": null,
      "outputs": [
        {
          "output_type": "stream",
          "text": [
            "statistic of Diet female =  0.968551754951477\n",
            "pvalue of Diet female =  0.5003483295440674\n",
            "Không có bằng chứng để bác bỏ H0 \n",
            "Điều này ngụ ý là:female là dữ liệu tuân theo phân phối chuẩn với mức ý nghĩa 5% \n",
            "Đủ điều kiện để phân tích tiếp\n"
          ],
          "name": "stdout"
        }
      ]
    },
    {
      "cell_type": "markdown",
      "metadata": {
        "id": "F5a5csr9kdqv"
      },
      "source": [
        "  ##  Phát biểu giả thiết:\n",
        "\n",
        "$H_0$: male là dữ liệu tuân theo phân phối chuẩn\n",
        "\n",
        "$H_a$: male không phải là dữ liệu tuân theo phân phối chuẩn"
      ]
    },
    {
      "cell_type": "code",
      "metadata": {
        "colab": {
          "base_uri": "https://localhost:8080/",
          "height": 824
        },
        "id": "klit8TBNkeTB",
        "outputId": "51bad680-90ad-4f3c-a050-bc44305c5bad"
      },
      "source": [
        "hist(male)\n",
        "plt.title('Graph of male',  size=20, color='y')\n",
        "sm.qqplot(standadize(male), line ='45')\n",
        "plt.tight_layout()\n",
        "plt.show()"
      ],
      "execution_count": null,
      "outputs": [
        {
          "output_type": "stream",
          "text": [
            "/usr/local/lib/python3.7/dist-packages/seaborn/distributions.py:2557: FutureWarning: `distplot` is a deprecated function and will be removed in a future version. Please adapt your code to use either `displot` (a figure-level function with similar flexibility) or `histplot` (an axes-level function for histograms).\n",
            "  warnings.warn(msg, FutureWarning)\n"
          ],
          "name": "stderr"
        },
        {
          "output_type": "display_data",
          "data": {
            "image/png": "[encoded data removed]",
            "text/plain": [
              "<Figure size 576x396 with 1 Axes>"
            ]
          },
          "metadata": {
            "tags": []
          }
        },
        {
          "output_type": "display_data",
          "data": {
            "image/png": "[encoded data removed]",
            "text/plain": [
              "<Figure size 576x396 with 1 Axes>"
            ]
          },
          "metadata": {
            "tags": []
          }
        }
      ]
    },
    {
      "cell_type": "code",
      "metadata": {
        "colab": {
          "base_uri": "https://localhost:8080/"
        },
        "id": "xl8m7hzQkjXS",
        "outputId": "e24124e0-2c40-4f55-abb1-7a1227362b10"
      },
      "source": [
        "stm, pm = stats.shapiro(male)\n",
        "print('statistic of Diet female = ',stm)\n",
        "print('pvalue of Diet female = ',pm)\n",
        "if (pm > 0.05):\n",
        "    print(\"Không có bằng chứng để bác bỏ H0\")\n",
        "    print('Điều này ngụ ý là male là dữ liệu tuân theo phân phối chuẩn với mức ý nghĩa 5% ')\n",
        "    print('Đủ điều kiện để phân tích tiếp')\n",
        "else:\n",
        "    print('đã có đủ bằng chứng để bác bỏ H0')\n",
        "    print('ta chấp nhận giả thiết Ha với mực ý nghĩa là 5%')\n",
        "    print('male không phải là dữ liệu tuân theo phân phối chuẩn')"
      ],
      "execution_count": null,
      "outputs": [
        {
          "output_type": "stream",
          "text": [
            "statistic of Diet female =  0.9828602075576782\n",
            "pvalue of Diet female =  0.8954154253005981\n",
            "Không có bằng chứng để bác bỏ H0\n",
            "Điều này ngụ ý là male là dữ liệu tuân theo phân phối chuẩn với mức ý nghĩa 5% \n",
            "Đủ điều kiện để phân tích tiếp\n"
          ],
          "name": "stdout"
        }
      ]
    },
    {
      "cell_type": "markdown",
      "metadata": {
        "id": "yl_8Eh7Uksmp"
      },
      "source": [
        "## Kiểm định tính thuần nhất phương sai (homogeneity of variance)\n",
        "\n",
        "### Bartlett’s Test\n",
        "\n",
        "Phát biểu các giả thiết:\n",
        "\n",
        "\n",
        "$H_0$: Các feature đều có phương sai đồng nhất \n",
        "\n",
        "$H_1$: Có ít nhất 2 feature có phương sai khác nhau (lớn)\n",
        "\n",
        "Chú ý: Nếu p < 0.05 = $\\alpha$ thì loại giả thiết $H_0$. Tức là các feature không đồng nhất về phương sai."
      ]
    },
    {
      "cell_type": "code",
      "metadata": {
        "colab": {
          "base_uri": "https://localhost:8080/"
        },
        "id": "-Sc7AKs9kxLp",
        "outputId": "52a2b0ab-ac4a-454f-f1b5-7d597fb4ef0e"
      },
      "source": [
        "stfm, pfm = stats.bartlett(female, male)\n",
        "print('statistic by Bartlett = ',stfm)\n",
        "print('pvalue by Bartlett = ',pfm)\n",
        "if (pfm > 0.05):\n",
        "    print('Không có bằng chứng để bác bỏ H0')\n",
        "    print('Điều này ngụ ý Các mẫu có phương sai giống nhau')\n",
        "    print('Đủ điều kiện đê phân tích ANOVA')\n",
        "else:\n",
        "    print('Đã có đủ bằng chứng để bác bỏ giả thuyết Ho')\n",
        "    print('Ta chấp nhận giả thuyết Ha với mức ý nghĩa là 5%:')\n",
        "    print('Có ít nhất 2 feature có phương sai khác nhau')\n"
      ],
      "execution_count": null,
      "outputs": [
        {
          "output_type": "stream",
          "text": [
            "statistic by Bartlett =  0.14384450828368128\n",
            "pvalue by Bartlett =  0.7044885736791986\n",
            "Không có bằng chứng để bác bỏ H0\n",
            "Điều này ngụ ý Các mẫu có phương sai giống nhau\n",
            "Đủ điều kiện đê phân tích ANOVA\n"
          ],
          "name": "stdout"
        }
      ]
    },
    {
      "cell_type": "markdown",
      "metadata": {
        "id": "dyw56pTAlDQB"
      },
      "source": [
        "### Xây dựng giả thuyết:\n",
        "\n",
        "$H_{0}: \\mu_{1} = \\mu_{2} = \\mu_{3}$\n",
        "\n",
        "$H_{a}: \\text{Có tối thiểu một cặp giá trị trung bình có giá trị khác nhau}$"
      ]
    },
    {
      "cell_type": "code",
      "metadata": {
        "colab": {
          "base_uri": "https://localhost:8080/"
        },
        "id": "gdhSgCVjlD7h",
        "outputId": "724d33c0-a1d2-4f73-e146-f9afffdb4c7b"
      },
      "source": [
        "st, p = f_oneway(type1, type2, type3)\n",
        "alpha = 0.05\n",
        "print('Giá trị kiểm định: ',st)\n",
        "print('p_value: ',p)\n",
        "if (p < alpha):\n",
        "    print('Có bằng chứng bác bỏ giả thuyết H0')\n",
        "else:\n",
        "    print(\"Không đủ bằng chứng bác bỏ giả thuyết H0.\")\n",
        "    print(\"Với mức ý nghĩa 5%: \")\n",
        "\n"
      ],
      "execution_count": null,
      "outputs": [
        {
          "output_type": "stream",
          "text": [
            "Giá trị kiểm định:  3.3986716235208743\n",
            "p_value:  0.04032361615052751\n",
            "Có bằng chứng bác bỏ giả thuyết H0\n"
          ],
          "name": "stdout"
        }
      ]
    },
    {
      "cell_type": "code",
      "metadata": {
        "colab": {
          "base_uri": "https://localhost:8080/",
          "height": 110
        },
        "id": "tC910jmnlNVZ",
        "outputId": "4351e448-1322-4d1b-a4f4-6bfce111585f"
      },
      "source": [
        "# ANOVA Table\n",
        "model = ols('lostweight ~ C(gender)', data=dtnew).fit()\n",
        "aov_table = sm.stats.anova_lm(model, typ=2)\n",
        "aov_table"
      ],
      "execution_count": null,
      "outputs": [
        {
          "output_type": "execute_result",
          "data": {
            "text/html": [
              "<div>\n",
              "<style scoped>\n",
              "    .dataframe tbody tr th:only-of-type {\n",
              "        vertical-align: middle;\n",
              "    }\n",
              "\n",
              "    .dataframe tbody tr th {\n",
              "        vertical-align: top;\n",
              "    }\n",
              "\n",
              "    .dataframe thead th {\n",
              "        text-align: right;\n",
              "    }\n",
              "</style>\n",
              "<table border=\"1\" class=\"dataframe\">\n",
              "  <thead>\n",
              "    <tr style=\"text-align: right;\">\n",
              "      <th></th>\n",
              "      <th>sum_sq</th>\n",
              "      <th>df</th>\n",
              "      <th>F</th>\n",
              "      <th>PR(&gt;F)</th>\n",
              "    </tr>\n",
              "  </thead>\n",
              "  <tbody>\n",
              "    <tr>\n",
              "      <th>C(gender)</th>\n",
              "      <td>0.278485</td>\n",
              "      <td>1.0</td>\n",
              "      <td>0.043786</td>\n",
              "      <td>0.834827</td>\n",
              "    </tr>\n",
              "    <tr>\n",
              "      <th>Residual</th>\n",
              "      <td>470.650331</td>\n",
              "      <td>74.0</td>\n",
              "      <td>NaN</td>\n",
              "      <td>NaN</td>\n",
              "    </tr>\n",
              "  </tbody>\n",
              "</table>\n",
              "</div>"
            ],
            "text/plain": [
              "               sum_sq    df         F    PR(>F)\n",
              "C(gender)    0.278485   1.0  0.043786  0.834827\n",
              "Residual   470.650331  74.0       NaN       NaN"
            ]
          },
          "metadata": {
            "tags": []
          },
          "execution_count": 42
        }
      ]
    },
    {
      "cell_type": "code",
      "metadata": {
        "colab": {
          "base_uri": "https://localhost:8080/",
          "height": 146
        },
        "id": "KgKP_IvHlVz7",
        "outputId": "b38c7a48-c74e-48dd-e2d9-81f4b2e9a9f4"
      },
      "source": [
        "# Hậu kiểm ANOVA\n",
        "tukey = pairwise_tukeyhsd(endog=dtnew['lostweight'],\n",
        "                          groups=dtnew['gender'],\n",
        "                          alpha=0.05)\n",
        "tukey.summary()"
      ],
      "execution_count": null,
      "outputs": [
        {
          "output_type": "stream",
          "text": [
            "/usr/local/lib/python3.7/dist-packages/numpy/core/fromnumeric.py:87: VisibleDeprecationWarning: Creating an ndarray from ragged nested sequences (which is a list-or-tuple of lists-or-tuples-or ndarrays with different lengths or shapes) is deprecated. If you meant to do this, you must specify 'dtype=object' when creating the ndarray\n",
            "  return ufunc.reduce(obj, axis, dtype, out, **passkwargs)\n"
          ],
          "name": "stderr"
        },
        {
          "output_type": "execute_result",
          "data": {
            "text/html": [
              "<table class=\"simpletable\">\n",
              "<caption>Multiple Comparison of Means - Tukey HSD, FWER=0.05</caption>\n",
              "<tr>\n",
              "  <th>group1</th> <th>group2</th> <th>meandiff</th>  <th>p-adj</th>  <th>lower</th>   <th>upper</th> <th>reject</th>\n",
              "</tr>\n",
              "<tr>\n",
              "    <td>0.0</td>    <td>1.0</td>   <td>0.1221</td>  <td>0.8397</td> <td>-1.0408</td> <td>1.2851</td>  <td>False</td>\n",
              "</tr>\n",
              "</table>"
            ],
            "text/plain": [
              "<class 'statsmodels.iolib.table.SimpleTable'>"
            ]
          },
          "metadata": {
            "tags": []
          },
          "execution_count": 43
        }
      ]
    },
    {
      "cell_type": "code",
      "metadata": {
        "colab": {
          "base_uri": "https://localhost:8080/",
          "height": 390
        },
        "id": "3CXTAZWlld3Y",
        "outputId": "bc2f4c4f-5547-4e28-8d0b-83642c51fd48"
      },
      "source": [
        "### Kỹ thuật EDA:\n",
        "dt = dt.replace(to_replace =[0,1], \n",
        "                            value =['Female','Male'])\n",
        "sns.boxplot(x='gender', y='lostweight', data=dtnew, palette='flare')\n",
        "sns.swarmplot(x=\"gender\", y='lostweight', data=dtnew, color='b')\n",
        "plt.title('Compare gender',  size=20, color='r')\n",
        "plt.xticks(size=15)\n",
        "plt.xlabel('Gender',fontsize=15)\n",
        "plt.ylabel('Lost Weight',fontsize=15)\n",
        "plt.show()"
      ],
      "execution_count": null,
      "outputs": [
        {
          "output_type": "display_data",
          "data": {
            "image/png": "[encoded data removed]",
            "text/plain": [
              "<Figure size 576x396 with 1 Axes>"
            ]
          },
          "metadata": {
            "tags": []
          }
        }
      ]
    },
    {
      "cell_type": "markdown",
      "metadata": {
        "id": "giRWSFyBlxng"
      },
      "source": [
        "# Task5: Two-way ANOVA (perform)"
      ]
    },
    {
      "cell_type": "markdown",
      "metadata": {
        "id": "7MvK8jPNmHBo"
      },
      "source": [
        "\n",
        "Giả thuyết:\n",
        "\n",
        "$H_0$: Hiệu quả giảm cân của nam và nữ là như nhau.\n",
        "\n",
        "$H_1$: Hiệu quả giảm cân của nam và nữ là khác nhau."
      ]
    },
    {
      "cell_type": "code",
      "metadata": {
        "colab": {
          "base_uri": "https://localhost:8080/",
          "height": 80
        },
        "id": "I_TRBxWJl0hZ",
        "outputId": "b6e3d0ce-054f-4c9d-8562-f4db99d0022c"
      },
      "source": [
        "p = {}\n",
        "\n",
        "def results(p, alpha=0.05):\n",
        "    cols=['mean1', 'mean2', 'score','p_value', 'KetLuan']\n",
        "    if p['p_value'] < alpha:\n",
        "        p['KetLuan'] = f\"Chấp nhận H1 với mức ý nghĩa {alpha}\"\n",
        "    if p['p_value'] >= alpha:\n",
        "        p['KetLuan'] = f\"Chấp nhận H0 với mức ý nghĩa {alpha}\"\n",
        "    df = pd.DataFrame(p, index=[''])\n",
        "    return df[cols]\n",
        "\n",
        "    \n",
        "p['mean1'] = np.mean(female)\n",
        "p['mean2'] = np.mean(male)\n",
        "p['score'], p['p_value'] = stats.ttest_ind(female, male)\n",
        "results(p)"
      ],
      "execution_count": null,
      "outputs": [
        {
          "output_type": "execute_result",
          "data": {
            "text/html": [
              "<div>\n",
              "<style scoped>\n",
              "    .dataframe tbody tr th:only-of-type {\n",
              "        vertical-align: middle;\n",
              "    }\n",
              "\n",
              "    .dataframe tbody tr th {\n",
              "        vertical-align: top;\n",
              "    }\n",
              "\n",
              "    .dataframe thead th {\n",
              "        text-align: right;\n",
              "    }\n",
              "</style>\n",
              "<table border=\"1\" class=\"dataframe\">\n",
              "  <thead>\n",
              "    <tr style=\"text-align: right;\">\n",
              "      <th></th>\n",
              "      <th>mean1</th>\n",
              "      <th>mean2</th>\n",
              "      <th>score</th>\n",
              "      <th>p_value</th>\n",
              "      <th>KetLuan</th>\n",
              "    </tr>\n",
              "  </thead>\n",
              "  <tbody>\n",
              "    <tr>\n",
              "      <th></th>\n",
              "      <td>3.843333</td>\n",
              "      <td>3.803333</td>\n",
              "      <td>0.060451</td>\n",
              "      <td>0.952005</td>\n",
              "      <td>Chấp nhận H0 với mức ý nghĩa 0.05</td>\n",
              "    </tr>\n",
              "  </tbody>\n",
              "</table>\n",
              "</div>"
            ],
            "text/plain": [
              "     mean1     mean2     score   p_value                            KetLuan\n",
              "  3.843333  3.803333  0.060451  0.952005  Chấp nhận H0 với mức ý nghĩa 0.05"
            ]
          },
          "metadata": {
            "tags": []
          },
          "execution_count": 45
        }
      ]
    },
    {
      "cell_type": "markdown",
      "metadata": {
        "id": "IOFIft2rm43f"
      },
      "source": [
        "# Task6: Interactions\n",
        "### Means plot of weight lost by diet and gender"
      ]
    },
    {
      "cell_type": "code",
      "metadata": {
        "id": "UekrPZGjm5bI"
      },
      "source": [
        "task6 = dtnew[['Diet', 'lostweight', 'gender']]"
      ],
      "execution_count": null,
      "outputs": []
    },
    {
      "cell_type": "code",
      "metadata": {
        "colab": {
          "base_uri": "https://localhost:8080/",
          "height": 409
        },
        "id": "soCSaU5tm_jg",
        "outputId": "7fc6d669-0f24-491b-c4f7-d26b3306633c"
      },
      "source": [
        "sns.set_theme(style=\"whitegrid\")\n",
        "g=sns.barplot(x=\"Diet\", y=\"lostweight\", hue=\"gender\", data = task6, palette=['red','blue'])\n",
        "g.set_xticklabels([\"Type_1\", \"Type_2\", \"Type_3\"])\n",
        "g.set(ylim=(0, 7))\n",
        "plt.title('Means plot of weight lost by diet and gender', size=20, color = 'black')"
      ],
      "execution_count": null,
      "outputs": [
        {
          "output_type": "execute_result",
          "data": {
            "text/plain": [
              "Text(0.5, 1.0, 'Means plot of weight lost by diet and gender')"
            ]
          },
          "metadata": {
            "tags": []
          },
          "execution_count": 47
        },
        {
          "output_type": "display_data",
          "data": {
            "image/png": "[encoded data removed]",
            "text/plain": [
              "<Figure size 576x396 with 1 Axes>"
            ]
          },
          "metadata": {
            "tags": []
          }
        }
      ]
    },
    {
      "cell_type": "markdown",
      "metadata": {
        "id": "UWPl_2WXncKy"
      },
      "source": [
        "**Task 7: Add height to either ANOVA**\n"
      ]
    },
    {
      "cell_type": "code",
      "metadata": {
        "colab": {
          "base_uri": "https://localhost:8080/",
          "height": 447
        },
        "id": "qA-N0QJJnfuy",
        "outputId": "833d8eed-63a4-450d-b45b-20d81d6a32f0"
      },
      "source": [
        "task7 = dtnew[['Height', 'gender', 'Diet', 'lostweight']]\n",
        "task7"
      ],
      "execution_count": null,
      "outputs": [
        {
          "output_type": "execute_result",
          "data": {
            "text/html": [
              "<div>\n",
              "<style scoped>\n",
              "    .dataframe tbody tr th:only-of-type {\n",
              "        vertical-align: middle;\n",
              "    }\n",
              "\n",
              "    .dataframe tbody tr th {\n",
              "        vertical-align: top;\n",
              "    }\n",
              "\n",
              "    .dataframe thead th {\n",
              "        text-align: right;\n",
              "    }\n",
              "</style>\n",
              "<table border=\"1\" class=\"dataframe\">\n",
              "  <thead>\n",
              "    <tr style=\"text-align: right;\">\n",
              "      <th></th>\n",
              "      <th>Height</th>\n",
              "      <th>gender</th>\n",
              "      <th>Diet</th>\n",
              "      <th>lostweight</th>\n",
              "    </tr>\n",
              "    <tr>\n",
              "      <th>Person</th>\n",
              "      <th></th>\n",
              "      <th></th>\n",
              "      <th></th>\n",
              "      <th></th>\n",
              "    </tr>\n",
              "  </thead>\n",
              "  <tbody>\n",
              "    <tr>\n",
              "      <th>1</th>\n",
              "      <td>159</td>\n",
              "      <td>0.0</td>\n",
              "      <td>1</td>\n",
              "      <td>3.8</td>\n",
              "    </tr>\n",
              "    <tr>\n",
              "      <th>2</th>\n",
              "      <td>192</td>\n",
              "      <td>0.0</td>\n",
              "      <td>1</td>\n",
              "      <td>6.0</td>\n",
              "    </tr>\n",
              "    <tr>\n",
              "      <th>3</th>\n",
              "      <td>170</td>\n",
              "      <td>0.0</td>\n",
              "      <td>1</td>\n",
              "      <td>0.7</td>\n",
              "    </tr>\n",
              "    <tr>\n",
              "      <th>4</th>\n",
              "      <td>171</td>\n",
              "      <td>0.0</td>\n",
              "      <td>1</td>\n",
              "      <td>2.9</td>\n",
              "    </tr>\n",
              "    <tr>\n",
              "      <th>5</th>\n",
              "      <td>170</td>\n",
              "      <td>0.0</td>\n",
              "      <td>1</td>\n",
              "      <td>2.8</td>\n",
              "    </tr>\n",
              "    <tr>\n",
              "      <th>...</th>\n",
              "      <td>...</td>\n",
              "      <td>...</td>\n",
              "      <td>...</td>\n",
              "      <td>...</td>\n",
              "    </tr>\n",
              "    <tr>\n",
              "      <th>74</th>\n",
              "      <td>183</td>\n",
              "      <td>1.0</td>\n",
              "      <td>3</td>\n",
              "      <td>2.8</td>\n",
              "    </tr>\n",
              "    <tr>\n",
              "      <th>75</th>\n",
              "      <td>177</td>\n",
              "      <td>1.0</td>\n",
              "      <td>3</td>\n",
              "      <td>4.1</td>\n",
              "    </tr>\n",
              "    <tr>\n",
              "      <th>76</th>\n",
              "      <td>164</td>\n",
              "      <td>1.0</td>\n",
              "      <td>3</td>\n",
              "      <td>5.3</td>\n",
              "    </tr>\n",
              "    <tr>\n",
              "      <th>77</th>\n",
              "      <td>167</td>\n",
              "      <td>1.0</td>\n",
              "      <td>3</td>\n",
              "      <td>9.2</td>\n",
              "    </tr>\n",
              "    <tr>\n",
              "      <th>78</th>\n",
              "      <td>175</td>\n",
              "      <td>1.0</td>\n",
              "      <td>3</td>\n",
              "      <td>6.1</td>\n",
              "    </tr>\n",
              "  </tbody>\n",
              "</table>\n",
              "<p>76 rows × 4 columns</p>\n",
              "</div>"
            ],
            "text/plain": [
              "        Height  gender  Diet  lostweight\n",
              "Person                                  \n",
              "1          159     0.0     1         3.8\n",
              "2          192     0.0     1         6.0\n",
              "3          170     0.0     1         0.7\n",
              "4          171     0.0     1         2.9\n",
              "5          170     0.0     1         2.8\n",
              "...        ...     ...   ...         ...\n",
              "74         183     1.0     3         2.8\n",
              "75         177     1.0     3         4.1\n",
              "76         164     1.0     3         5.3\n",
              "77         167     1.0     3         9.2\n",
              "78         175     1.0     3         6.1\n",
              "\n",
              "[76 rows x 4 columns]"
            ]
          },
          "metadata": {
            "tags": []
          },
          "execution_count": 48
        }
      ]
    },
    {
      "cell_type": "code",
      "metadata": {
        "colab": {
          "base_uri": "https://localhost:8080/",
          "height": 142
        },
        "id": "Trb75Ax0nuYg",
        "outputId": "236b6699-166f-4772-e6fd-076962511831"
      },
      "source": [
        "\n",
        "from pingouin import ancova\n",
        "\n",
        "ancova(data=task7, dv='lostweight', covar='Height', between='Diet')"
      ],
      "execution_count": null,
      "outputs": [
        {
          "output_type": "execute_result",
          "data": {
            "text/html": [
              "<div>\n",
              "<style scoped>\n",
              "    .dataframe tbody tr th:only-of-type {\n",
              "        vertical-align: middle;\n",
              "    }\n",
              "\n",
              "    .dataframe tbody tr th {\n",
              "        vertical-align: top;\n",
              "    }\n",
              "\n",
              "    .dataframe thead th {\n",
              "        text-align: right;\n",
              "    }\n",
              "</style>\n",
              "<table border=\"1\" class=\"dataframe\">\n",
              "  <thead>\n",
              "    <tr style=\"text-align: right;\">\n",
              "      <th></th>\n",
              "      <th>Source</th>\n",
              "      <th>SS</th>\n",
              "      <th>DF</th>\n",
              "      <th>F</th>\n",
              "      <th>p-unc</th>\n",
              "      <th>np2</th>\n",
              "    </tr>\n",
              "  </thead>\n",
              "  <tbody>\n",
              "    <tr>\n",
              "      <th>0</th>\n",
              "      <td>Diet</td>\n",
              "      <td>54.939344</td>\n",
              "      <td>2</td>\n",
              "      <td>4.824629</td>\n",
              "      <td>0.010807</td>\n",
              "      <td>0.118179</td>\n",
              "    </tr>\n",
              "    <tr>\n",
              "      <th>1</th>\n",
              "      <td>Height</td>\n",
              "      <td>0.460119</td>\n",
              "      <td>1</td>\n",
              "      <td>0.080813</td>\n",
              "      <td>0.777015</td>\n",
              "      <td>0.001121</td>\n",
              "    </tr>\n",
              "    <tr>\n",
              "      <th>2</th>\n",
              "      <td>Residual</td>\n",
              "      <td>409.941688</td>\n",
              "      <td>72</td>\n",
              "      <td>NaN</td>\n",
              "      <td>NaN</td>\n",
              "      <td>NaN</td>\n",
              "    </tr>\n",
              "  </tbody>\n",
              "</table>\n",
              "</div>"
            ],
            "text/plain": [
              "     Source          SS  DF         F     p-unc       np2\n",
              "0      Diet   54.939344   2  4.824629  0.010807  0.118179\n",
              "1    Height    0.460119   1  0.080813  0.777015  0.001121\n",
              "2  Residual  409.941688  72       NaN       NaN       NaN"
            ]
          },
          "metadata": {
            "tags": []
          },
          "execution_count": 51
        }
      ]
    }
  ]
}